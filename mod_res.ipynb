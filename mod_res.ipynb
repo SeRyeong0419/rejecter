{
 "cells": [
  {
   "cell_type": "code",
   "execution_count": 5,
   "metadata": {},
   "outputs": [],
   "source": [
    "import os\n",
    "import glob\n"
   ]
  },
  {
   "cell_type": "code",
   "execution_count": 6,
   "metadata": {},
   "outputs": [
    {
     "name": "stdout",
     "output_type": "stream",
     "text": [
      "Clip_00003 done\n"
     ]
    }
   ],
   "source": [
    "\n",
    "base_path = r'C:\\aivill_sey_ryeong\\labeling\\라벨링툴\\srs클립\\동적'\n",
    "\n",
    "clip = \"Clip_00003\"\n",
    "res = glob.glob(f'{base_path}/{clip}/result/*')\n",
    "\n",
    "i=0\n",
    "for r in res:\n",
    "    os.rename(r, r.replace( f\"_{str(i).zfill(3)}.json\", f\"_{str(i+1).zfill(3)}.txt\"))\n",
    "    i+=1\n",
    "    \n",
    "print(f'{clip} done')\n",
    "\n"
   ]
  },
  {
   "cell_type": "code",
   "execution_count": 7,
   "metadata": {},
   "outputs": [
    {
     "name": "stdout",
     "output_type": "stream",
     "text": [
      "Clip_00003 done\n"
     ]
    }
   ],
   "source": [
    "\n",
    "base_path = r'C:\\aivill_sey_ryeong\\labeling\\라벨링툴\\srs클립\\동적'\n",
    "\n",
    "clip = \"Clip_00003\"\n",
    "res = glob.glob(f'{base_path}/{clip}/result/*')\n",
    "\n",
    "i=0\n",
    "for r in res:\n",
    "    os.rename(r, r.replace(\".txt\", \".json\"))\n",
    "    i+=1\n",
    "    \n",
    "print(f'{clip} done')\n",
    "\n"
   ]
  }
 ],
 "metadata": {
  "interpreter": {
   "hash": "2043299c89c8cd0b4d1a6f5cf4529bd58e6a4e0fe3181a25e0d328c821cdc5c5"
  },
  "kernelspec": {
   "display_name": "Python 3.9.12 ('base')",
   "language": "python",
   "name": "python3"
  },
  "language_info": {
   "codemirror_mode": {
    "name": "ipython",
    "version": 3
   },
   "file_extension": ".py",
   "mimetype": "text/x-python",
   "name": "python",
   "nbconvert_exporter": "python",
   "pygments_lexer": "ipython3",
   "version": "3.9.12"
  },
  "orig_nbformat": 4
 },
 "nbformat": 4,
 "nbformat_minor": 2
}
