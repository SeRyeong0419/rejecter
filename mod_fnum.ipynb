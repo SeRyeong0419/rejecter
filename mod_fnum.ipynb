{
 "cells": [
  {
   "cell_type": "code",
   "execution_count": 1,
   "metadata": {},
   "outputs": [],
   "source": [
    "import os\n",
    "import glob\n"
   ]
  },
  {
   "cell_type": "code",
   "execution_count": null,
   "metadata": {},
   "outputs": [],
   "source": []
  },
  {
   "cell_type": "code",
   "execution_count": 2,
   "metadata": {},
   "outputs": [
    {
     "name": "stdout",
     "output_type": "stream",
     "text": [
      "Clip_00010 done\n",
      "Clip_00014 done\n",
      "Clip_00027 done\n",
      "Clip_00029 done\n",
      "Clip_00053 done\n"
     ]
    }
   ],
   "source": [
    "\n",
    "base_path = r'C:/aivill_sey_ryeong/labeling/라벨링툴\\srs클립/주행환경/'\n",
    "\n",
    "clip_folders = [i for i in os.listdir(base_path) \n",
    "                if len(i) == 10 and 'Clip_' in i]\n",
    "\n",
    "for clip in clip_folders:\n",
    "    \n",
    "    cam = glob.glob(f'{base_path}/{clip}/Camera/CameraFront/blur/*')\n",
    "    lidar = glob.glob(f'{base_path}/{clip}/Lidar/*')\n",
    "    radar = glob.glob(f'{base_path}/{clip}/Radar/RadarFront/*')\n",
    "    \n",
    "    for c, l, r in zip(cam, lidar, radar):\n",
    "        os.rename(c, c[:-8] + c[-7:])\n",
    "        os.rename(l, l[:-8] + l[-7:])\n",
    "        os.rename(r, r[:-8] + r[-7:])\n",
    "    \n",
    "    print(f'{clip} done')\n",
    "\n"
   ]
  }
 ],
 "metadata": {
  "interpreter": {
   "hash": "2043299c89c8cd0b4d1a6f5cf4529bd58e6a4e0fe3181a25e0d328c821cdc5c5"
  },
  "kernelspec": {
   "display_name": "Python 3.9.12 ('base')",
   "language": "python",
   "name": "python3"
  },
  "language_info": {
   "codemirror_mode": {
    "name": "ipython",
    "version": 3
   },
   "file_extension": ".py",
   "mimetype": "text/x-python",
   "name": "python",
   "nbconvert_exporter": "python",
   "pygments_lexer": "ipython3",
   "version": "3.9.12"
  },
  "orig_nbformat": 4
 },
 "nbformat": 4,
 "nbformat_minor": 2
}
